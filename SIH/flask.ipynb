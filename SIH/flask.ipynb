{
 "cells": [
  {
   "cell_type": "code",
   "execution_count": null,
   "id": "639fecb3",
   "metadata": {},
   "outputs": [],
   "source": [
    "import pickle\n",
    "from flask import Flask, render_template, request\n",
    "import numpy as np\n",
    "import tensorflow as tf\n",
    "import pandas as pd\n",
    "import cv2\n",
    "from sklearn.preprocessing import StandardScaler"
   ]
  },
  {
   "cell_type": "code",
   "execution_count": null,
   "id": "e144af4b",
   "metadata": {},
   "outputs": [],
   "source": [
    "app=Flask(__name__)"
   ]
  },
  {
   "cell_type": "code",
   "execution_count": null,
   "id": "d264df39",
   "metadata": {},
   "outputs": [],
   "source": [
    "from tensorflow.keras.models import load_model\n",
    "humantracker = load_model('humantracker.h5')"
   ]
  },
  {
   "cell_type": "code",
   "execution_count": null,
   "id": "0ca18e00",
   "metadata": {},
   "outputs": [],
   "source": [
    "@app.route('/')\n",
    "def home():\n",
    "    return render_template('index.html')"
   ]
  },
  {
   "cell_type": "code",
   "execution_count": null,
   "id": "dc98f795",
   "metadata": {},
   "outputs": [],
   "source": [
    "@app.route('/predict', methods=['POST'])\n",
    "def predictt():\n",
    "    video= request.files['video_input']\n",
    "    print(video.filename)\n",
    "    video_path = \"./videos/\" + video.filename\n",
    "    video.save(video_path)\n",
    "    cap = cv2.VideoCapture(video_path)\n",
    "    if (cap.isOpened() == False):\n",
    "        print(\"Error opening video stream or file\")\n",
    "    while cap.isOpened():\n",
    "        _ , frame = cap.read()\n",
    "        frame = frame[50:500, 50:500,:]\n",
    "        \n",
    "        rgb = cv2.cvtColor(frame, cv2.COLOR_BGR2RGB)\n",
    "        resized = tf.image.resize(rgb, (120,120))\n",
    "        \n",
    "        yhat = humantracker.predict(np.expand_dims(resized/255,0))\n",
    "        sample_coords = yhat[1][0]\n",
    "        print(yhat[0])\n",
    "    \n",
    "        if yhat[0] >0.5: \n",
    "        # Controls the main rectangle\n",
    "            cv2.rectangle(frame, \n",
    "                          tuple(np.multiply(sample_coords[:2], [450,450]).astype(int)),\n",
    "                          tuple(np.multiply(sample_coords[2:], [450,450]).astype(int)), \n",
    "                                (255,0,0), 2)\n",
    "        # Controls the label rectangle\n",
    "            cv2.rectangle(frame, \n",
    "                          tuple(np.add(np.multiply(sample_coords[:2], [450,450]).astype(int), \n",
    "                                        [0,-30])),\n",
    "                          tuple(np.add(np.multiply(sample_coords[:2], [450,450]).astype(int),\n",
    "                                        [80,0])), \n",
    "                                (255,0,0), -1)\n",
    "        \n",
    "        # Controls the text rendered\n",
    "            cv2.putText(frame, 'Human', tuple(np.add(np.multiply(sample_coords[:2], [450,450]).astype(int),\n",
    "                                                   [0,-5])),\n",
    "                        cv2.FONT_HERSHEY_SIMPLEX, 1, (255,255,255), 2, cv2.LINE_AA)\n",
    "    \n",
    "        cv2.imshow('humantracker', frame)\n",
    "    \n",
    "        if cv2.waitKey(1) & 0xFF == ord('q'):\n",
    "            break\n",
    "    cap.release()\n",
    "    cv2.destroyAllWindows()\n",
    "    return render_template('index.html')"
   ]
  },
  {
   "cell_type": "code",
   "execution_count": null,
   "id": "08a9598d",
   "metadata": {},
   "outputs": [],
   "source": [
    "if __name__ == '__main__':\n",
    "    app.run(host='localhost', port=80)"
   ]
  },
  {
   "cell_type": "code",
   "execution_count": null,
   "id": "7b918f3d",
   "metadata": {},
   "outputs": [],
   "source": []
  }
 ],
 "metadata": {
  "kernelspec": {
   "display_name": "Python 3 (ipykernel)",
   "language": "python",
   "name": "python3"
  },
  "language_info": {
   "codemirror_mode": {
    "name": "ipython",
    "version": 3
   },
   "file_extension": ".py",
   "mimetype": "text/x-python",
   "name": "python",
   "nbconvert_exporter": "python",
   "pygments_lexer": "ipython3",
   "version": "3.10.9"
  }
 },
 "nbformat": 4,
 "nbformat_minor": 5
}
